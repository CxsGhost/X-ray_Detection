{
 "cells": [
  {
   "cell_type": "code",
   "execution_count": 1,
   "metadata": {
    "collapsed": true
   },
   "outputs": [],
   "source": [
    "from tensorflow import keras\n",
    "from tensorflow.keras.applications import ResNet50V2, ResNet50\n",
    "import numpy as np\n",
    "import os\n",
    "import matplotlib.pyplot as plt"
   ]
  },
  {
   "cell_type": "code",
   "execution_count": 2,
   "outputs": [],
   "source": [
    "model_0 = ResNet50V2(include_top=False,\n",
    "                     weights='imagenet',\n",
    "                     input_shape=(640, 640, 3))"
   ],
   "metadata": {
    "collapsed": false,
    "pycharm": {
     "name": "#%%\n"
    }
   }
  },
  {
   "cell_type": "code",
   "execution_count": 20,
   "outputs": [],
   "source": [
    "conv2_out = model_0.get_layer('conv3_block1_preact_relu').output\n",
    "conv3_out = model_0.get_layer('conv4_block1_preact_relu').output\n",
    "conv4_out = model_0.get_layer('conv5_block1_preact_relu').output\n",
    "conv5_out = model_0.get_layer('post_relu').output\n",
    "fea_model = keras.Model(inputs=[model_0.input], outputs=[conv2_out, conv3_out, conv4_out, conv5_out])"
   ],
   "metadata": {
    "collapsed": false,
    "pycharm": {
     "name": "#%%\n"
    }
   }
  },
  {
   "cell_type": "code",
   "execution_count": null,
   "outputs": [],
   "source": [
    "\n",
    "def cope_out(out_img, name_):\n",
    "    out_img = keras.backend.squeeze(out_img, 0)\n",
    "    out_img = np.sum(out_img, axis=-1)\n",
    "    out_img = keras.backend.expand_dims(out_img, 2)\n",
    "    out_img = out_img / np.max(out_img) * 255\n",
    "    out_img = np.rint(out_img)\n",
    "    plt.imsave(name_, out_img, cmap='gray')"
   ],
   "metadata": {
    "collapsed": false,
    "pycharm": {
     "name": "#%%\n"
    }
   }
  },
  {
   "cell_type": "code",
   "execution_count": 23,
   "outputs": [
    {
     "ename": "AttributeError",
     "evalue": "'list' object has no attribute 'shape'",
     "output_type": "error",
     "traceback": [
      "\u001B[1;31m---------------------------------------------------------------------------\u001B[0m",
      "\u001B[1;31mAttributeError\u001B[0m                            Traceback (most recent call last)",
      "\u001B[1;32m<ipython-input-23-a715cc9c790c>\u001B[0m in \u001B[0;36m<module>\u001B[1;34m\u001B[0m\n\u001B[1;32m----> 1\u001B[1;33m \u001B[0mprint\u001B[0m\u001B[1;33m(\u001B[0m\u001B[0mout_img\u001B[0m\u001B[1;33m.\u001B[0m\u001B[0mshape\u001B[0m\u001B[1;33m)\u001B[0m\u001B[1;33m\u001B[0m\u001B[1;33m\u001B[0m\u001B[0m\n\u001B[0m\u001B[0;32m      2\u001B[0m \u001B[1;33m\u001B[0m\u001B[0m\n",
      "\u001B[1;31mAttributeError\u001B[0m: 'list' object has no attribute 'shape'"
     ]
    }
   ],
   "source": [
    "path = './VOC2007-640'\n",
    "def save_fea_map(path_):\n",
    "    conv2_path = os.path.join(path_, 'conv2')\n",
    "    conv3_path = os.path.join(path_, 'conv3')\n",
    "    conv4_path = os.path.join(path_, 'conv4')\n",
    "    conv5_path = os.path.join(path_, 'conv5')\n",
    "    ori_path = os.path.join(path_, 'img_dete')\n",
    "    files = os.listdir(ori_path)\n",
    "    for img in files:\n",
    "        img_path = os.path.join(ori_path, img)\n",
    "        img = keras.preprocessing.image.load_img(img_path, target_size=(640, 640, 3))\n",
    "        img = keras.preprocessing.image.img_to_array(img)\n",
    "        img = keras.backend.expand_dims(img, axis=0)\n",
    "        out = fea_model(img)\n",
    "        cope_out(out[0], os.path.join(conv2_path, img))\n",
    "        cope_out(out[1], os.path.join(conv3_path, img))\n",
    "        cope_out(out[2], os.path.join(conv4_path, img))\n",
    "        cope_out(out[3], os.path.join(conv5_path, img))\n",
    "save_fea_map(path)"
   ],
   "metadata": {
    "collapsed": false,
    "pycharm": {
     "name": "#%%\n"
    }
   }
  },
  {
   "cell_type": "code",
   "execution_count": 39,
   "outputs": [
    {
     "name": "stdout",
     "output_type": "stream",
     "text": [
      "(20, 20, 1)\n"
     ]
    }
   ],
   "source": [
    "\n",
    "\n",
    "\n"
   ],
   "metadata": {
    "collapsed": false,
    "pycharm": {
     "name": "#%%\n"
    }
   }
  },
  {
   "cell_type": "code",
   "execution_count": 41,
   "outputs": [
    {
     "data": {
      "text/plain": "<matplotlib.image.AxesImage at 0x13e582b9388>"
     },
     "execution_count": 41,
     "metadata": {},
     "output_type": "execute_result"
    },
    {
     "data": {
      "text/plain": "<Figure size 432x288 with 1 Axes>",
      "image/png": "[encoded data removed]"
     },
     "metadata": {
      "needs_background": "light"
     },
     "output_type": "display_data"
    }
   ],
   "source": [],
   "metadata": {
    "collapsed": false,
    "pycharm": {
     "name": "#%%\n"
    }
   }
  }
 ],
 "metadata": {
  "kernelspec": {
   "display_name": "Python 3",
   "language": "python",
   "name": "python3"
  },
  "language_info": {
   "codemirror_mode": {
    "name": "ipython",
    "version": 2
   },
   "file_extension": ".py",
   "mimetype": "text/x-python",
   "name": "python",
   "nbconvert_exporter": "python",
   "pygments_lexer": "ipython2",
   "version": "2.7.6"
  }
 },
 "nbformat": 4,
 "nbformat_minor": 0
}