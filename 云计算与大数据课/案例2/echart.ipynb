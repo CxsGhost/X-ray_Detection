{
 "cells": [
  {
   "cell_type": "code",
   "execution_count": 1,
   "metadata": {
    "collapsed": true
   },
   "outputs": [],
   "source": [
    "import random\n",
    "import pandas as pd\n",
    "import pyecharts.options as opts\n",
    "from pyecharts.charts import Line\n",
    "import datetime"
   ]
  },
  {
   "cell_type": "code",
   "execution_count": 4,
   "outputs": [
    {
     "name": "stdout",
     "output_type": "stream",
     "text": [
      "           date variety  price\n",
      "0     2020-6-18     洋白菜    1.4\n",
      "1     2020-6-18      豆角    3.9\n",
      "2     2020-6-18      芋头    5.1\n",
      "3     2020-6-18      生菜    3.5\n",
      "4     2020-6-18     西兰花    9.7\n",
      "...         ...     ...    ...\n",
      "2470   2021-9-3     西兰花    8.2\n",
      "2471   2021-9-3     胡萝卜    3.5\n",
      "2472   2021-9-3      生菜    4.8\n",
      "2473   2021-9-3      香菇   11.5\n",
      "2474   2021-9-3      豇豆    6.0\n",
      "\n",
      "[2475 rows x 3 columns]\n"
     ]
    }
   ],
   "source": [
    "data = pd.read_csv('./vegetable.csv')\n",
    "print(data)"
   ],
   "metadata": {
    "collapsed": false,
    "pycharm": {
     "name": "#%%\n"
    }
   }
  },
  {
   "cell_type": "code",
   "execution_count": 5,
   "outputs": [
    {
     "name": "stdout",
     "output_type": "stream",
     "text": [
      "['2020-06-16', '2020-06-17', '2020-06-18', '2020-06-19', '2020-06-22', '2020-06-23', '2020-06-28', '2020-06-29', '2020-06-30', '2020-07-01', '2020-07-02', '2020-07-03', '2020-07-06', '2020-07-07', '2020-07-09', '2020-07-10', '2020-07-13', '2020-07-14', '2020-07-16', '2020-07-21', '2020-07-22', '2020-07-23', '2020-07-24', '2020-07-28', '2020-07-29', '2020-07-30', '2020-08-03', '2020-08-04', '2020-08-06', '2020-08-10', '2020-08-11', '2020-08-12', '2020-08-13', '2020-08-18', '2020-08-19', '2020-08-20', '2020-08-21', '2020-08-24', '2020-08-25', '2020-08-27', '2020-08-28', '2020-08-31', '2020-09-01', '2020-09-03', '2020-09-04', '2020-09-07', '2020-09-08', '2020-09-10', '2020-09-11', '2020-09-15', '2020-09-16', '2020-09-17', '2020-09-21', '2020-09-22', '2020-09-24', '2020-09-27', '2020-09-29', '2020-10-10', '2020-10-13', '2020-10-14', '2020-10-20', '2020-10-21', '2020-10-22', '2020-11-16', '2020-11-19', '2021-09-03', '2021-12-28']\n"
     ]
    }
   ],
   "source": [
    "def get_time(x):\n",
    "    return str(datetime.datetime.strptime(x, '%Y-%m-%d'))[:10]\n",
    "\n",
    "data['date'] = data['date'].apply(get_time)\n",
    "date_list = data['date'].values\n",
    "date_list = list(map(get_time, list(date_list)))\n",
    "date_list = sorted(list(set(date_list)))\n",
    "print(date_list)"
   ],
   "metadata": {
    "collapsed": false,
    "pycharm": {
     "name": "#%%\n"
    }
   }
  },
  {
   "cell_type": "code",
   "execution_count": 6,
   "outputs": [
    {
     "name": "stdout",
     "output_type": "stream",
     "text": [
      "['大葱' '芹菜' '条形辣椒干（小米椒）' '豆角' '莴笋' '白萝卜' '黄瓜' '香菇' '苦瓜' '茄子' '油菜' '红萝卜'\n",
      " '豇豆' '西兰花' '青椒' '小白菜' '大白菜' '茭白' '葱头' '土豆' '生菜' '西葫芦' '平菇' '胡萝卜' '大蒜'\n",
      " '莲藕' '洋白菜' '菠菜' '芋头' '菜花' '山药' '西红柿' '冬瓜' '南瓜' '蒜薹' '西瓜' '丝瓜' '木耳' '韭菜'\n",
      " '生姜']\n"
     ]
    }
   ],
   "source": [
    "veget = data['variety'].unique()\n",
    "random.shuffle(veget)\n",
    "data = data.groupby('variety')\n",
    "print(veget)"
   ],
   "metadata": {
    "collapsed": false,
    "pycharm": {
     "name": "#%%\n"
    }
   }
  },
  {
   "cell_type": "code",
   "execution_count": 17,
   "outputs": [
    {
     "name": "stdout",
     "output_type": "stream",
     "text": [
      "['2020-6-18' '2020-6-17' '2020-6-22' '2020-6-23' '2020-6-28' '2020-6-30'\n",
      " '2020-6-29' '2020-7-1' '2020-7-2' '2020-7-3' '2020-7-6' '2020-7-7'\n",
      " '2020-7-9' '2020-7-13' '2020-7-10' '2020-7-14' '2020-7-21' '2020-7-16'\n",
      " '2020-7-22' '2020-7-23' '2020-7-24' '2020-7-28' '2020-7-29' '2020-7-30'\n",
      " '2020-8-3' '2020-8-4' '2020-8-6' '2020-8-10' '2020-8-11' '2020-8-12'\n",
      " '2020-8-13' '2020-8-18' '2020-8-19' '2020-8-20' '2020-8-21' '2020-8-24'\n",
      " '2020-8-25' '2020-8-28' '2020-8-27' '2020-9-1' '2020-8-31' '2020-9-3'\n",
      " '2020-9-4' '2020-9-7' '2020-9-8' '2020-9-10' '2020-9-11' '2020-9-15'\n",
      " '2020-9-17' '2020-9-16' '2020-9-21' '2020-9-22' '2020-9-24' '2020-9-27'\n",
      " '2020-9-29' '2020-10-10' '2020-10-13' '2020-10-14' '2020-10-20'\n",
      " '2020-10-21' '2020-10-22' '2020-11-16' '2020-11-19' '2021-9-3'] [1.4 1.4 0.9 0.9 1.3 1.8 1.4 1.6 1.6 1.4 2.2 2.0 2.3 2.1 2.3 2.1 2.0 1.9\n",
      " 2.0 2.1 1.9 2.0 2.2 2.3 2.7 2.8 2.4 2.3 2.1 2.1 2.1 2.9 2.9 2.75 1.8 1.7\n",
      " 1.7 2.8 2.7 2.1 2.5 2.8 2.9 3.2 3.0 2.8 3.1 2.8 2.2 2.2 2.7 2.8 2.9 3.0\n",
      " 2.1 2.2 2.1 2.1 1.9 2.0 1.9 2.0 2.2 1.3]\n"
     ]
    }
   ],
   "source": [
    "line = None\n",
    "for v in veget:\n",
    "    temp = data.get_group(v)[['date', 'price']].values\n",
    "    x = temp[:, 0]\n",
    "    y = temp[:, 1]\n",
    "    line=(\n",
    "    Line()\n",
    "    .add_xaxis(xaxis_data=x)\n",
    "    .add_yaxis(series_name=v,y_axis=y,is_symbol_show=True)\n",
    "    .set_global_opts(title_opts=opts.TitleOpts(title='蔬菜价格走势图'))\n",
    "    )\n",
    "line.render_notebook()"
   ],
   "metadata": {
    "collapsed": false,
    "pycharm": {
     "name": "#%%\n"
    }
   }
  }
 ],
 "metadata": {
  "kernelspec": {
   "display_name": "Python 3",
   "language": "python",
   "name": "python3"
  },
  "language_info": {
   "codemirror_mode": {
    "name": "ipython",
    "version": 2
   },
   "file_extension": ".py",
   "mimetype": "text/x-python",
   "name": "python",
   "nbconvert_exporter": "python",
   "pygments_lexer": "ipython2",
   "version": "2.7.6"
  }
 },
 "nbformat": 4,
 "nbformat_minor": 0
}