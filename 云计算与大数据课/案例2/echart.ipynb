{
 "cells": [
  {
   "cell_type": "code",
   "execution_count": 1,
   "metadata": {
    "collapsed": true
   },
   "outputs": [],
   "source": [
    "import pandas as pd\n",
    "import pyecharts.options as opts\n",
    "from pyecharts.charts import Line"
   ]
  },
  {
   "cell_type": "code",
   "execution_count": 16,
   "outputs": [],
   "source": [
    "data = pd.read_csv('./vegetable.csv')\n",
    "date = data['date'].values\n",
    "date = sorted(list(set(date)))\n",
    "veget = data['variety'].unique()\n",
    "data = data.groupby('variety')"
   ],
   "metadata": {
    "collapsed": false,
    "pycharm": {
     "name": "#%%\n"
    }
   }
  },
  {
   "cell_type": "code",
   "execution_count": 17,
   "outputs": [
    {
     "name": "stdout",
     "output_type": "stream",
     "text": [
      "['2020-6-18' '2020-6-17' '2020-6-22' '2020-6-23' '2020-6-28' '2020-6-30'\n",
      " '2020-6-29' '2020-7-1' '2020-7-2' '2020-7-3' '2020-7-6' '2020-7-7'\n",
      " '2020-7-9' '2020-7-13' '2020-7-10' '2020-7-14' '2020-7-21' '2020-7-16'\n",
      " '2020-7-22' '2020-7-23' '2020-7-24' '2020-7-28' '2020-7-29' '2020-7-30'\n",
      " '2020-8-3' '2020-8-4' '2020-8-6' '2020-8-10' '2020-8-11' '2020-8-12'\n",
      " '2020-8-13' '2020-8-18' '2020-8-19' '2020-8-20' '2020-8-21' '2020-8-24'\n",
      " '2020-8-25' '2020-8-28' '2020-8-27' '2020-9-1' '2020-8-31' '2020-9-3'\n",
      " '2020-9-4' '2020-9-7' '2020-9-8' '2020-9-10' '2020-9-11' '2020-9-15'\n",
      " '2020-9-17' '2020-9-16' '2020-9-21' '2020-9-22' '2020-9-24' '2020-9-27'\n",
      " '2020-9-29' '2020-10-10' '2020-10-13' '2020-10-14' '2020-10-20'\n",
      " '2020-10-21' '2020-10-22' '2020-11-16' '2020-11-19' '2021-9-3'] [1.4 1.4 0.9 0.9 1.3 1.8 1.4 1.6 1.6 1.4 2.2 2.0 2.3 2.1 2.3 2.1 2.0 1.9\n",
      " 2.0 2.1 1.9 2.0 2.2 2.3 2.7 2.8 2.4 2.3 2.1 2.1 2.1 2.9 2.9 2.75 1.8 1.7\n",
      " 1.7 2.8 2.7 2.1 2.5 2.8 2.9 3.2 3.0 2.8 3.1 2.8 2.2 2.2 2.7 2.8 2.9 3.0\n",
      " 2.1 2.2 2.1 2.1 1.9 2.0 1.9 2.0 2.2 1.3]\n"
     ]
    }
   ],
   "source": [
    "line = None\n",
    "for v in veget:\n",
    "    temp = data.get_group(v)[['date', 'price']].values\n",
    "    x = temp[:, 0]\n",
    "    y = temp[:, 1]\n",
    "    line=(\n",
    "    Line()\n",
    "    .add_xaxis(xaxis_data=x)\n",
    "    .add_yaxis(series_name=v,y_axis=y,is_symbol_show=True)\n",
    "    .set_global_opts(title_opts=opts.TitleOpts(title='蔬菜价格走势图'))\n",
    "    )\n",
    "line.render_notebook()\n",
    "\n",
    "\n",
    "\n"
   ],
   "metadata": {
    "collapsed": false,
    "pycharm": {
     "name": "#%%\n"
    }
   }
  }
 ],
 "metadata": {
  "kernelspec": {
   "display_name": "Python 3",
   "language": "python",
   "name": "python3"
  },
  "language_info": {
   "codemirror_mode": {
    "name": "ipython",
    "version": 2
   },
   "file_extension": ".py",
   "mimetype": "text/x-python",
   "name": "python",
   "nbconvert_exporter": "python",
   "pygments_lexer": "ipython2",
   "version": "2.7.6"
  }
 },
 "nbformat": 4,
 "nbformat_minor": 0
}