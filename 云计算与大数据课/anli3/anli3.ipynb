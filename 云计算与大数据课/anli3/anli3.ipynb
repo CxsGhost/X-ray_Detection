{
 "cells": [
  {
   "cell_type": "code",
   "execution_count": 1,
   "metadata": {
    "collapsed": true
   },
   "outputs": [],
   "source": [
    "import pandas as pd"
   ]
  },
  {
   "cell_type": "code",
   "execution_count": 13,
   "outputs": [
    {
     "name": "stderr",
     "output_type": "stream",
     "text": [
      "E:\\Anaconda\\lib\\site-packages\\IPython\\core\\interactiveshell.py:3147: DtypeWarning: Columns (2,4,10,15) have mixed types.Specify dtype option on import or set low_memory=False.\n",
      "  interactivity=interactivity, compiler=compiler, result=result)\n"
     ]
    },
    {
     "name": "stdout",
     "output_type": "stream",
     "text": [
      "['province', 'city', 'code', 'acc_number', 'tel', 'date', 'rep_disoe', 'overtime', 'receipt', 'descr', 'exp_empid', 'fault_1', 'fault_2', 'fault_type', 'acs_way', 'address']\n"
     ]
    }
   ],
   "source": [
    "data = pd.read_csv('./workdata.txt', sep='\\t', header=None, index_col=None)\n",
    "col = 'province:String, city:String, code:String, acc_number:String, tel:String, date:String, rep_disoe:Int, overtime:Int, receipt:Int, descr:String, exp_empid:String, fault_1:String, fault_2:String, fault_type:String, acs_way:String, address:String'\n",
    "col = col.replace(',','')\n",
    "col = col.split(' ')\n",
    "col = list(map(lambda x: x[:x.find(':')], col))\n",
    "print(col)"
   ],
   "metadata": {
    "collapsed": false,
    "pycharm": {
     "name": "#%%\n"
    }
   }
  },
  {
   "cell_type": "code",
   "execution_count": 14,
   "outputs": [
    {
     "name": "stdout",
     "output_type": "stream",
     "text": [
      "        province city                code                      acc_number  \\\n",
      "0             广东  深圳市  '20160606000102086    ADSLD2eda4b2a4b5ac1a2a4a4b2e   \n",
      "1             广东  深圳市  '20160115000065469     ADSLD2eda4b22eda4a4c1c1b2b2   \n",
      "2             广东  深圳市  '20160520000094507  ADSLD2eda4b22ed5aa4ba4bc1a42ed   \n",
      "3             广东  深圳市  '20160121000025602    ADSLD2eda4b22ed5af8a2f8a4bb2   \n",
      "4             广东  深圳市  '20160609000095645        ADSLD2eda4b22edc1a4b2eb2   \n",
      "...          ...  ...                 ...                             ...   \n",
      "3950953       广西  南宁市   20160831002733951        a4c1c1a4ba4a45aa2f8a4bc1   \n",
      "3950954       广西  梧州市   20160831002733958         a4c1c1a2a4f8a2a45aa4b2e   \n",
      "3950955       广西  南宁市   20160831002733966     a4c1c1a4ba2b5aa2a2b2edc1a2b   \n",
      "3950956       广西  南宁市   20160831002733985               bnnzza4b2f8b2b2b2   \n",
      "3950957       广西  百色市   20160831002733996    a4c1c15a2edf82eda4ba4ba4ba4b   \n",
      "\n",
      "                                  tel        date  rep_disoe  overtime  \\\n",
      "0         a4bb2a4a4b2ed2ef82eda4bc1a4  2016-06-06          0         1   \n",
      "1          a4ba2bc1a4ba2f8a2c12e2eda2  2016-01-15          0         0   \n",
      "2           a4ba2ba2a4bf85aa42ea4f8a4  2016-05-20          0         0   \n",
      "3                f82eda4b2edb2b22ea2b  2016-01-21          0         0   \n",
      "4            a4bf85af8f82eb2f8a4ba45a  2016-06-09          0         0   \n",
      "...                               ...         ...        ...       ...   \n",
      "3950953      a4bf8b2c1f82eb22eda22eb2  2016-08-31          0         0   \n",
      "3950954      a4bf8c1c1b2a2a2f8a4b5af8  2016-08-31          0         0   \n",
      "3950955      a4ba2b2ec1f8f85aa2f8c1f8  2016-08-31          0         0   \n",
      "3950956      a4ba2bc1a4c1f8f8b2b2b2b2  2016-08-31          0         0   \n",
      "3950957  a4ba2bf8a4c1f85aa4b2ed2eda2b  2016-08-31          0         0   \n",
      "\n",
      "         receipt  descr exp_empid fault_1 fault_2 fault_type       acs_way  \\\n",
      "0              1      无   2081219     未标注  无法连接上网       普通故障    FTTH光纤接入方式   \n",
      "1              0      无   2081219     未标注  无法连接上网       普通故障        铜缆接入方式   \n",
      "2              0      无   2081219     未标注  无法连接上网       普通故障      FTTB+LAN   \n",
      "3              0      无   2081219     未标注  无法连接上网       普通故障        铜缆接入方式   \n",
      "4              1      无   2081219     未标注  无法连接上网       普通故障        铜缆接入方式   \n",
      "...          ...    ...       ...     ...     ...        ...           ...   \n",
      "3950953        0      无    gsww39     未标注  无法连接上网       普通故障          FTTH   \n",
      "3950954        0  客户不配合    gsww32     未标注  无法连接上网       普通故障          FTTH   \n",
      "3950955        0      无    gsww14     未标注  无法连接上网       普通故障     FTTX(LAN)   \n",
      "3950956        0      无    gsww20     未标注  无法连接上网       普通故障  传统(LAN+POTS)   \n",
      "3950957        0      无    gsww20     未标注  无法连接上网       普通故障          FTTH   \n",
      "\n",
      "                      address  \n",
      "0             深圳市罗湖区笋岗街道办文锦北路  \n",
      "1              深圳市宝安区大浪街道办鹊山村  \n",
      "2               深圳市龙华区大浪街道办陶村  \n",
      "3              深圳市罗湖区笋岗街道办田心村  \n",
      "4          深圳市宝安区新安街道办裕安区和丰小区  \n",
      "...                       ...  \n",
      "3950953            南宁兴宁区城区济南路  \n",
      "3950954           梧州长洲区城区金湖南路  \n",
      "3950955          南宁市大沙田五象岭四小区  \n",
      "3950956               南宁市区竹溪路  \n",
      "3950957  百色右江区利元社区桂林街川惠森林花园小区  \n",
      "\n",
      "[3950958 rows x 16 columns]\n"
     ]
    }
   ],
   "source": [
    "data = data.drop(columns=[16])\n",
    "data.columns = col\n",
    "print(data)"
   ],
   "metadata": {
    "collapsed": false,
    "pycharm": {
     "name": "#%%\n"
    }
   }
  },
  {
   "cell_type": "code",
   "execution_count": 22,
   "outputs": [],
   "source": [
    "data = data[['province', 'date', 'exp_empid']]\n"
   ],
   "metadata": {
    "collapsed": false,
    "pycharm": {
     "name": "#%%\n"
    }
   }
  },
  {
   "cell_type": "code",
   "execution_count": 45,
   "outputs": [],
   "source": [
    "data['date'] = data['date'].apply(lambda x: x.replace('7', '1'))\n",
    "data['num'] = data.groupby(['province', 'date']).transform(lambda x: len(x))"
   ],
   "metadata": {
    "collapsed": false,
    "pycharm": {
     "name": "#%%\n"
    }
   }
  },
  {
   "cell_type": "code",
   "execution_count": 52,
   "outputs": [],
   "source": [
    "data['exp_num'] = data.groupby(['province', 'date'])['exp_empid'].transform(lambda x: len(x.unique()))"
   ],
   "metadata": {
    "collapsed": false,
    "pycharm": {
     "name": "#%%\n"
    }
   }
  },
  {
   "cell_type": "code",
   "execution_count": 54,
   "outputs": [],
   "source": [
    "data['effic'] = data['num'] / data['exp_num']\n",
    "data.to_csv('./nengxioa.csv')\n"
   ],
   "metadata": {
    "collapsed": false,
    "pycharm": {
     "name": "#%%\n"
    }
   }
  }
 ],
 "metadata": {
  "kernelspec": {
   "display_name": "Python 3",
   "language": "python",
   "name": "python3"
  },
  "language_info": {
   "codemirror_mode": {
    "name": "ipython",
    "version": 2
   },
   "file_extension": ".py",
   "mimetype": "text/x-python",
   "name": "python",
   "nbconvert_exporter": "python",
   "pygments_lexer": "ipython2",
   "version": "2.7.6"
  }
 },
 "nbformat": 4,
 "nbformat_minor": 0
}