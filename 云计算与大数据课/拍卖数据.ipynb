{
 "cells": [
  {
   "cell_type": "code",
   "execution_count": 1,
   "metadata": {
    "collapsed": true
   },
   "outputs": [],
   "source": [
    "import pandas as pd\n",
    "import numpy as np\n",
    "import tensorflow as tf\n",
    "from tensorflow.keras import models\n",
    "from tensorflow.keras import layers\n",
    "from tensorflow.keras import losses\n",
    "from tensorflow.keras import optimizers\n",
    "from tensorflow.keras import metrics\n",
    "from tensorflow.keras import activations\n",
    "from tensorflow.keras import callbacks\n",
    "from tensorflow.keras import Input\n",
    "from sklearn.model_selection import KFold\n",
    "from sklearn.preprocessing import MinMaxScaler\n"
   ]
  },
  {
   "cell_type": "code",
   "execution_count": 5,
   "outputs": [
    {
     "name": "stdout",
     "output_type": "stream",
     "text": [
      "特征个数: 26\n",
      "Index(['EbayID', 'Price', 'PricePercent', 'StartingBidPercent', 'SellerName',\n",
      "       'SellerClosePercent', 'Category', 'PersonID', 'StartingBid', 'AvgPrice',\n",
      "       'EndDay', 'HitCount', 'AuctionAvgHitCount', 'ItemAuctionSellPercent',\n",
      "       'SellerSaleAvgPriceRatio', 'SellerAvg', 'SellerItemAvg',\n",
      "       'AuctionHitCountAvgRatio', 'BestOffer', 'IsHOF', 'ItemListedCount',\n",
      "       'AuctionCount', 'AuctionSaleCount', 'SellerAuctionCount',\n",
      "       'SellerAuctionSaleCount', 'AuctionMedianPrice'],\n",
      "      dtype='object')\n",
      "\n",
      "统计是否有缺失值\n",
      "EbayID: 0\n",
      "Price: 0\n",
      "PricePercent: 0\n",
      "StartingBidPercent: 0\n",
      "SellerName: 0\n",
      "SellerClosePercent: 0\n",
      "Category: 0\n",
      "PersonID: 0\n",
      "StartingBid: 0\n",
      "AvgPrice: 0\n",
      "EndDay: 0\n",
      "HitCount: 0\n",
      "AuctionAvgHitCount: 0\n",
      "ItemAuctionSellPercent: 0\n",
      "SellerSaleAvgPriceRatio: 0\n",
      "SellerAvg: 0\n",
      "SellerItemAvg: 0\n",
      "AuctionHitCountAvgRatio: 0\n",
      "BestOffer: 0\n",
      "IsHOF: 0\n",
      "ItemListedCount: 0\n",
      "AuctionCount: 0\n",
      "AuctionSaleCount: 0\n",
      "SellerAuctionCount: 0\n",
      "SellerAuctionSaleCount: 0\n",
      "AuctionMedianPrice: 0\n"
     ]
    }
   ],
   "source": [
    "data = pd.read_csv('./data/TrainingSet.csv')\n",
    "labels = data['QuantitySold']\n",
    "data = data.drop(columns=['ReturnsAccepted', 'QuantitySold'])\n",
    "columns = data.columns\n",
    "print('特征个数: {0}'.format(len(columns)))\n",
    "print(columns)\n",
    "print('\\n统计是否有缺失值')\n",
    "for c in columns:\n",
    "    print('{0}: {1}'.format(c, data[c].isnull().sum()))\n",
    "embed_cols = ['EbayID', 'SellerName', 'Category', 'EndDay',]"
   ],
   "metadata": {
    "collapsed": false,
    "pycharm": {
     "name": "#%%\n"
    }
   }
  },
  {
   "cell_type": "code",
   "execution_count": 6,
   "outputs": [
    {
     "name": "stdout",
     "output_type": "stream",
     "text": [
      "EbayID个数: 258589\n",
      "Category个数: 46\n",
      "EndDay个数: 8\n",
      "SellerName个数: 11067\n"
     ]
    }
   ],
   "source": [
    "seller_name = data[embed_cols[1]].values\n",
    "end_day = data[embed_cols[3]].values\n",
    "ebay_id = data[embed_cols[0]].values\n",
    "category = data[embed_cols[2]].values\n",
    "\n",
    "ei_emb = layers.experimental.preprocessing.IntegerLookup()\n",
    "ei_emb.adapt(ebay_id)\n",
    "ei_num = len(ei_emb.get_vocabulary())\n",
    "print('EbayID个数: {0}'.format(ei_num))\n",
    "cate_emb = layers.experimental.preprocessing.IntegerLookup()\n",
    "cate_emb.adapt(category)\n",
    "cate_num = len(cate_emb.get_vocabulary())\n",
    "print('Category个数: {0}'.format(cate_num))\n",
    "ed_emb = layers.experimental.preprocessing.StringLookup()\n",
    "ed_emb.adapt(end_day)\n",
    "ed_num = len(ed_emb.get_vocabulary())\n",
    "print('EndDay个数: {0}'.format(ed_num))\n",
    "sn_emb = layers.experimental.preprocessing.StringLookup()\n",
    "sn_emb.adapt(seller_name)\n",
    "sn_num = len(sn_emb.get_vocabulary())\n",
    "print('SellerName个数: {0}'.format(sn_num))"
   ],
   "metadata": {
    "collapsed": false,
    "pycharm": {
     "name": "#%%\n"
    }
   }
  },
  {
   "cell_type": "code",
   "execution_count": null,
   "outputs": [],
   "source": [
    "data = data.drop(columns=embed_cols).values\n",
    "print(data.shape)\n",
    "print('数值特征归一化:')\n",
    "scaler = MinMaxScaler(feature_range=(0, 1))\n",
    "data = scaler.fit_transform(data)\n",
    "print(data)"
   ],
   "metadata": {
    "collapsed": false,
    "pycharm": {
     "name": "#%%\n"
    }
   }
  },
  {
   "cell_type": "code",
   "execution_count": null,
   "outputs": [],
   "source": [
    "# ei_input = Input(shape=(1,), dtype='float32', name='ebayid_input')\n",
    "cate_input = Input(shape=(1,), dtype='float32', name='cate_input')\n",
    "ed_input = Input(shape=(1,), dtype='string', name='endday_input')\n",
    "sn_input = Input(shape=(1,), dtype='string', name='sellername_input')\n",
    "\n",
    "# ei_emb = ei_emb(ei_input)\n",
    "cate_emb = cate_emb(cate_input)\n",
    "ed_emb = ed_emb(ed_input)\n",
    "sn_emb = sn_emb(sn_input)\n",
    "\n",
    "# ei_emb = layers.Embedding(ei_num, 16)(ei_emb)\n",
    "cate_emb = layers.Embedding(cate_num, 8)(cate_emb)\n",
    "ed_emb = layers.Embedding(ed_num, 4)(ed_emb)\n",
    "sn_emb = layers.Embedding(sn_num, 16)(sn_emb)\n",
    "\n",
    "ox_input = layers.Input(shape=(data.shape[-1],), dtype='float32', name='otherfea_input')\n",
    "x = layers.Concatenate()([ox_input, cate_emb, ed_emb, sn_emb])\n",
    "x = layers.Dense(128, use_bias=False)(x)\n",
    "x = layers.BatchNormalization()"
   ],
   "metadata": {
    "collapsed": false,
    "pycharm": {
     "name": "#%%\n"
    }
   }
  }
 ],
 "metadata": {
  "kernelspec": {
   "display_name": "Python 3",
   "language": "python",
   "name": "python3"
  },
  "language_info": {
   "codemirror_mode": {
    "name": "ipython",
    "version": 2
   },
   "file_extension": ".py",
   "mimetype": "text/x-python",
   "name": "python",
   "nbconvert_exporter": "python",
   "pygments_lexer": "ipython2",
   "version": "2.7.6"
  }
 },
 "nbformat": 4,
 "nbformat_minor": 0
}