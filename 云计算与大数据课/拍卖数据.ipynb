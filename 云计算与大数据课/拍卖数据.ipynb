{
 "cells": [
  {
   "cell_type": "code",
   "execution_count": 1,
   "metadata": {
    "collapsed": true
   },
   "outputs": [
    {
     "name": "stdout",
     "output_type": "stream",
     "text": [
      "TensorFlow版本: 2.7.0\n"
     ]
    }
   ],
   "source": [
    "import pandas as pd\n",
    "import numpy as np\n",
    "import tensorflow as tf\n",
    "from tensorflow.keras import models\n",
    "from tensorflow.keras import layers\n",
    "from tensorflow.keras import losses\n",
    "from tensorflow.keras import optimizers\n",
    "from tensorflow.keras import metrics\n",
    "from tensorflow.keras import activations\n",
    "from tensorflow.keras import callbacks\n",
    "from tensorflow.keras import Input\n",
    "from tensorflow.keras import utils\n",
    "from tensorflow.keras import backend as K\n",
    "from sklearn.model_selection import KFold\n",
    "from sklearn.preprocessing import MinMaxScaler\n",
    "import matplotlib.pyplot as plt\n",
    "print('TensorFlow版本: {0}'.format(tf.__version__))\n"
   ]
  },
  {
   "cell_type": "code",
   "execution_count": 2,
   "outputs": [
    {
     "name": "stdout",
     "output_type": "stream",
     "text": [
      "(258588, 28)\n",
      "特征个数: 26\n",
      "Index(['EbayID', 'Price', 'PricePercent', 'StartingBidPercent', 'SellerName',\n",
      "       'SellerClosePercent', 'Category', 'PersonID', 'StartingBid', 'AvgPrice',\n",
      "       'EndDay', 'HitCount', 'AuctionAvgHitCount', 'ItemAuctionSellPercent',\n",
      "       'SellerSaleAvgPriceRatio', 'SellerAvg', 'SellerItemAvg',\n",
      "       'AuctionHitCountAvgRatio', 'BestOffer', 'IsHOF', 'ItemListedCount',\n",
      "       'AuctionCount', 'AuctionSaleCount', 'SellerAuctionCount',\n",
      "       'SellerAuctionSaleCount', 'AuctionMedianPrice'],\n",
      "      dtype='object')\n",
      "\n",
      "统计是否有缺失值\n",
      "EbayID: 0\n",
      "Price: 0\n",
      "PricePercent: 0\n",
      "StartingBidPercent: 0\n",
      "SellerName: 0\n",
      "SellerClosePercent: 0\n",
      "Category: 0\n",
      "PersonID: 0\n",
      "StartingBid: 0\n",
      "AvgPrice: 0\n",
      "EndDay: 0\n",
      "HitCount: 0\n",
      "AuctionAvgHitCount: 0\n",
      "ItemAuctionSellPercent: 0\n",
      "SellerSaleAvgPriceRatio: 0\n",
      "SellerAvg: 0\n",
      "SellerItemAvg: 0\n",
      "AuctionHitCountAvgRatio: 0\n",
      "BestOffer: 0\n",
      "IsHOF: 0\n",
      "ItemListedCount: 0\n",
      "AuctionCount: 0\n",
      "AuctionSaleCount: 0\n",
      "SellerAuctionCount: 0\n",
      "SellerAuctionSaleCount: 0\n",
      "AuctionMedianPrice: 0\n"
     ]
    }
   ],
   "source": [
    "data = pd.read_csv('./data/TrainingSet.csv')\n",
    "print(data.shape)\n",
    "labels = data['QuantitySold']\n",
    "data = data.drop(columns=['ReturnsAccepted', 'QuantitySold'])\n",
    "columns = data.columns\n",
    "print('特征个数: {0}'.format(len(columns)))\n",
    "print(columns)\n",
    "print('\\n统计是否有缺失值')\n",
    "for c in columns:\n",
    "    print('{0}: {1}'.format(c, data[c].isnull().sum()))\n",
    "embed_cols = ['EbayID', 'SellerName', 'Category', 'EndDay',]"
   ],
   "metadata": {
    "collapsed": false,
    "pycharm": {
     "name": "#%%\n"
    }
   }
  },
  {
   "cell_type": "code",
   "execution_count": 3,
   "outputs": [
    {
     "name": "stdout",
     "output_type": "stream",
     "text": [
      "EbayID个数: 258589\n",
      "Category个数: 46\n",
      "EndDay个数: 8\n",
      "SellerName个数: 11067\n"
     ]
    }
   ],
   "source": [
    "seller_name = data[embed_cols[1]].values\n",
    "end_day = data[embed_cols[3]].values\n",
    "ebay_id = data[embed_cols[0]].values\n",
    "category = data[embed_cols[2]].values\n",
    "\n",
    "ei_emb = layers.experimental.preprocessing.IntegerLookup()\n",
    "ei_emb.adapt(ebay_id)\n",
    "ei_num = len(ei_emb.get_vocabulary())\n",
    "print('EbayID个数: {0}'.format(ei_num))\n",
    "cate_emb = layers.experimental.preprocessing.IntegerLookup()\n",
    "cate_emb.adapt(category)\n",
    "cate_num = len(cate_emb.get_vocabulary())\n",
    "print('Category个数: {0}'.format(cate_num))\n",
    "ed_emb = layers.experimental.preprocessing.StringLookup()\n",
    "ed_emb.adapt(end_day)\n",
    "ed_num = len(ed_emb.get_vocabulary())\n",
    "print('EndDay个数: {0}'.format(ed_num))\n",
    "sn_emb = layers.experimental.preprocessing.StringLookup()\n",
    "sn_emb.adapt(seller_name)\n",
    "sn_num = len(sn_emb.get_vocabulary())\n",
    "print('SellerName个数: {0}'.format(sn_num))"
   ],
   "metadata": {
    "collapsed": false,
    "pycharm": {
     "name": "#%%\n"
    }
   }
  },
  {
   "cell_type": "code",
   "execution_count": 4,
   "outputs": [
    {
     "name": "stdout",
     "output_type": "stream",
     "text": [
      "(258588, 22)\n",
      "数值特征归一化:\n",
      "[[9.08060537e-02 8.21956643e-04 2.98499166e-05 ... 1.84181262e-03\n",
      "  5.78922495e-03 5.09834605e-03]\n",
      " [1.43309554e-01 8.01667593e-04 1.86214564e-04 ... 3.64887406e-03\n",
      "  1.22873346e-02 1.01717206e-02]\n",
      " [3.66357757e-02 3.31795442e-04 3.01612007e-04 ... 8.44453711e-03\n",
      "  1.20510397e-02 5.09834605e-03]\n",
      " ...\n",
      " [1.32675512e-02 1.44958310e-03 1.44958310e-03 ... 2.64108980e-03\n",
      "  2.83553875e-03 4.07867684e-04]\n",
      " [9.99399960e-02 1.37354086e-04 1.37354086e-04 ... 1.71323325e-02\n",
      "  6.85255198e-03 2.01811265e-02]\n",
      " [4.16361091e-02 2.05947749e-04 4.92495831e-05 ... 5.97720322e-03\n",
      "  1.90217391e-02 8.33007317e-03]]\n"
     ]
    }
   ],
   "source": [
    "data = data.drop(columns=embed_cols).values\n",
    "print(data.shape)\n",
    "print('数值特征归一化:')\n",
    "scaler = MinMaxScaler(feature_range=(0, 1))\n",
    "data = scaler.fit_transform(data)\n",
    "print(data)"
   ],
   "metadata": {
    "collapsed": false,
    "pycharm": {
     "name": "#%%\n"
    }
   }
  },
  {
   "cell_type": "code",
   "execution_count": null,
   "outputs": [],
   "source": [
    "test_data = pd.read_csv('./data/TestSet.csv')\n",
    "print('测试数据: ' + test_data.shape)\n",
    "test_labels = test_data['QuantitySold']\n",
    "test_data = test_data.drop(columns=['ReturnsAccepted', 'QuantitySold'])\n",
    "test_cate = test_data[embed_cols[2]].values\n",
    "test_ed = test_data[embed_cols[3]].values\n",
    "test_sn = test_data[embed_cols[1]].values\n",
    "test_data = test_data.drop(columns=embed_cols).values\n",
    "test_data = scaler.transform(test_data)"
   ],
   "metadata": {
    "collapsed": false,
    "pycharm": {
     "name": "#%%\n"
    }
   }
  },
  {
   "cell_type": "code",
   "execution_count": 5,
   "outputs": [],
   "source": [
    "class Squeeze(layers.Layer):\n",
    "    def __init__(self, **kwargs):\n",
    "        super(Squeeze, self).__init__(**kwargs)\n",
    "    def call(self, inputs, *args, **kwargs):\n",
    "        return K.squeeze(inputs, axis=1)"
   ],
   "metadata": {
    "collapsed": false,
    "pycharm": {
     "name": "#%%\n"
    }
   }
  },
  {
   "cell_type": "code",
   "execution_count": 7,
   "outputs": [],
   "source": [
    "def build_model(cate_emb, ed_emb, sn_emb):\n",
    "    cate_input = Input(shape=(1,), dtype='float32', name='cate_input')\n",
    "    ed_input = Input(shape=(1,), dtype='string', name='endday_input')\n",
    "    sn_input = Input(shape=(1,), dtype='string', name='sellername_input')\n",
    "\n",
    "    cate_emb = cate_emb(cate_input)\n",
    "    ed_emb = ed_emb(ed_input)\n",
    "    sn_emb = sn_emb(sn_input)\n",
    "\n",
    "    cate_emb = layers.Embedding(cate_num, 8)(cate_emb)\n",
    "    ed_emb = layers.Embedding(ed_num, 4)(ed_emb)\n",
    "    sn_emb = layers.Embedding(sn_num, 16)(sn_emb)\n",
    "\n",
    "    squeeze_layer = Squeeze()\n",
    "    cate_emb = squeeze_layer(cate_emb)\n",
    "    ed_emb = squeeze_layer(ed_emb)\n",
    "    sn_emb = squeeze_layer(sn_emb)\n",
    "\n",
    "    ox_input = layers.Input(shape=(data.shape[-1],), dtype='float32', name='otherfea_input')\n",
    "    x = layers.Concatenate()([ox_input, cate_emb, ed_emb, sn_emb])\n",
    "    x = layers.Dense(128, use_bias=False)(x)\n",
    "    x = layers.BatchNormalization()(x)\n",
    "    x = layers.Activation(activations.swish)(x)\n",
    "    x = layers.Dropout(0.3)(x)\n",
    "    x = layers.Dense(64, use_bias=False)(x)\n",
    "    x = layers.BatchNormalization()(x)\n",
    "    x = layers.Activation(activations.swish)(x)\n",
    "    x = layers.Dropout(0.3)(x)\n",
    "    x = layers.Dense(32, use_bias=False)(x)\n",
    "    x = layers.BatchNormalization()(x)\n",
    "    x = layers.Activation(activations.swish)(x)\n",
    "    x = layers.Dropout(0.2)(x)\n",
    "    output = layers.Dense(1, activation=activations.sigmoid)(x)\n",
    "\n",
    "    model = models.Model(inputs=[cate_input, ed_input, sn_input, ox_input], outputs=[output])\n",
    "    model.compile(loss=losses.BinaryCrossentropy(),\n",
    "                  optimizer=optimizers.Adam(),\n",
    "                  metrics=[metrics.BinaryAccuracy()])\n",
    "    return model\n"
   ],
   "metadata": {
    "collapsed": false,
    "pycharm": {
     "name": "#%%\n"
    }
   }
  },
  {
   "cell_type": "code",
   "execution_count": null,
   "outputs": [],
   "source": [
    "def make_dataset(cate, ed, sn, ox, label):\n",
    "    ds = tf.data.Dataset.from_tensor_slices(((cate, ed, sn, ox), label))\n",
    "    ds = ds.shuffle(1024, reshuffle_each_iteration=True)\n",
    "    ds = ds.batch(256).cache().prefetch(tf.data.AUTOTUNE)\n",
    "    return ds"
   ],
   "metadata": {
    "collapsed": false,
    "pycharm": {
     "name": "#%%\n"
    }
   }
  },
  {
   "cell_type": "code",
   "execution_count": null,
   "outputs": [],
   "source": [
    "callback = [callbacks.EarlyStopping(monitor='val_binary_accuracy', patience=8, restore_best_weights=True),\n",
    "            callbacks.ReduceLROnPlateau(monitor='val_binary_accuracy', patience=3, factor=0.65)]"
   ],
   "metadata": {
    "collapsed": false,
    "pycharm": {
     "name": "#%%\n"
    }
   }
  },
  {
   "cell_type": "code",
   "execution_count": null,
   "outputs": [],
   "source": [
    "all_pred = []\n",
    "kfold = KFold(n_splits=5, random_state=43, shuffle=True)\n",
    "for k, (train_ind, valid_ind) in enumerate(kfold.split(data, labels)):\n",
    "    train_cate = category[train_ind]\n",
    "    train_ed = end_day[train_ind]\n",
    "    train_sn = seller_name[train_ind]\n",
    "    train_ox = data[train_ind]\n",
    "    train_labels = labels[train_ind]\n",
    "\n",
    "    valid_cate = category[valid_ind]\n",
    "    valid_ed = end_day[valid_ind]\n",
    "    valid_sn = seller_name[valid_ind]\n",
    "    valid_ox = data[valid_ind]\n",
    "    valid_labels = labels[valid_ind]\n",
    "\n",
    "    train_ds = make_dataset(train_cate, train_ed, train_sn, train_ox, train_labels)\n",
    "    valid_ds = make_dataset(valid_cate, valid_ed, valid_sn, valid_ox, valid_labels)\n",
    "\n",
    "    model = build_model(cate_emb, ed_emb, sn_emb)\n",
    "    if k == 0:\n",
    "        print(model.summary())\n",
    "        utils.plot_model(model, './model.png', show_shapes=True)\n",
    "    print('Training Model with Fold: {0}'.format(k))\n",
    "    history = model.fit(train_ds,\n",
    "                        epochs=50,\n",
    "                        callbacks=callback,\n",
    "                        validation_data=valid_ds,\n",
    "                        verbose=1)\n",
    "    history = history.history\n",
    "    acc = history['binary_accuracy']\n",
    "    val_acc = history['val_binary_accuracy']\n",
    "    plt.figure(figsize=(8, 6))\n",
    "    plt.plot(range(1, len(acc) + 1), acc, color='red')\n",
    "    plt.plot(range(1, len(val_acc) + 1), val_acc, color='blue')\n",
    "    plt.xlabel('Epochs')\n",
    "    plt.ylabel('Accuracy')\n",
    "    plt.title('Training-Validation')\n",
    "    plt.legend()\n",
    "    plt.savefig('./model_{0}.png'.format(k))\n",
    "    plt.show()\n",
    "\n",
    "    all_pred.append(model.predict((test_cate, test_ed, test_sn, test_data)))\n",
    "    print(all_pred)\n"
   ],
   "metadata": {
    "collapsed": false,
    "pycharm": {
     "name": "#%%\n"
    }
   }
  },
  {
   "cell_type": "code",
   "execution_count": null,
   "outputs": [],
   "source": [
    "pred_labels = np.average(np.array(all_pred))\n",
    "print('预测结果评分(准确率）:')\n",
    "print(metrics.binary_accuracy(test_labels, pred_labels))\n"
   ],
   "metadata": {
    "collapsed": false,
    "pycharm": {
     "name": "#%%\n"
    }
   }
  }
 ],
 "metadata": {
  "kernelspec": {
   "display_name": "Python 3",
   "language": "python",
   "name": "python3"
  },
  "language_info": {
   "codemirror_mode": {
    "name": "ipython",
    "version": 2
   },
   "file_extension": ".py",
   "mimetype": "text/x-python",
   "name": "python",
   "nbconvert_exporter": "python",
   "pygments_lexer": "ipython2",
   "version": "2.7.6"
  }
 },
 "nbformat": 4,
 "nbformat_minor": 0
}